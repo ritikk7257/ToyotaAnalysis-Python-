{
 "cells": [
  {
   "cell_type": "markdown",
   "id": "9002533f-6467-426e-b9eb-9c05916d357b",
   "metadata": {},
   "source": [
    "## Importing Libraries"
   ]
  },
  {
   "cell_type": "code",
   "execution_count": 1,
   "id": "f70ee678-f41b-4e90-9eb9-82185a53b4bf",
   "metadata": {},
   "outputs": [],
   "source": [
    "import pandas as pd\n",
    "import numpy as np"
   ]
  },
  {
   "cell_type": "markdown",
   "id": "ad74f969-b4f4-4270-aef4-1304ed7527b4",
   "metadata": {},
   "source": [
    "## Importing Dataset"
   ]
  },
  {
   "cell_type": "code",
   "execution_count": 2,
   "id": "b809fac0-04df-4a7c-8bbd-9f5112a9cb26",
   "metadata": {},
   "outputs": [],
   "source": [
    "df = pd.read_csv(\"E:\\\\Pandas\\\\NPTEL_Project\\\\dataset\\\\Toyota.csv\",index_col=0,na_values=[\"??\",\"###\"])"
   ]
  },
  {
   "cell_type": "markdown",
   "id": "5f60a13d-5fff-4ada-a3e3-e558cf4103c5",
   "metadata": {},
   "source": [
    "## Creating a deep copy of dataframe"
   ]
  },
  {
   "cell_type": "code",
   "execution_count": 3,
   "id": "192cddbc-48dc-44e4-b0f3-7c33b6e7bf4a",
   "metadata": {},
   "outputs": [],
   "source": [
    "data_set=df.copy(deep=True)"
   ]
  },
  {
   "cell_type": "code",
   "execution_count": 4,
   "id": "1e415016-59cc-40cf-aaa0-b2bd5cfbff07",
   "metadata": {},
   "outputs": [
    {
     "data": {
      "text/html": [
       "<div>\n",
       "<style scoped>\n",
       "    .dataframe tbody tr th:only-of-type {\n",
       "        vertical-align: middle;\n",
       "    }\n",
       "\n",
       "    .dataframe tbody tr th {\n",
       "        vertical-align: top;\n",
       "    }\n",
       "\n",
       "    .dataframe thead th {\n",
       "        text-align: right;\n",
       "    }\n",
       "</style>\n",
       "<table border=\"1\" class=\"dataframe\">\n",
       "  <thead>\n",
       "    <tr style=\"text-align: right;\">\n",
       "      <th></th>\n",
       "      <th>Price</th>\n",
       "      <th>Age</th>\n",
       "      <th>KM</th>\n",
       "      <th>FuelType</th>\n",
       "      <th>HP</th>\n",
       "      <th>MetColor</th>\n",
       "      <th>Automatic</th>\n",
       "      <th>CC</th>\n",
       "      <th>Doors</th>\n",
       "      <th>Weight</th>\n",
       "    </tr>\n",
       "  </thead>\n",
       "  <tbody>\n",
       "    <tr>\n",
       "      <th>0</th>\n",
       "      <td>13500</td>\n",
       "      <td>23.0</td>\n",
       "      <td>46986.0</td>\n",
       "      <td>Diesel</td>\n",
       "      <td>90</td>\n",
       "      <td>1.0</td>\n",
       "      <td>0</td>\n",
       "      <td>2000</td>\n",
       "      <td>three</td>\n",
       "      <td>1165</td>\n",
       "    </tr>\n",
       "    <tr>\n",
       "      <th>1</th>\n",
       "      <td>13750</td>\n",
       "      <td>23.0</td>\n",
       "      <td>72937.0</td>\n",
       "      <td>Diesel</td>\n",
       "      <td>90</td>\n",
       "      <td>1.0</td>\n",
       "      <td>0</td>\n",
       "      <td>2000</td>\n",
       "      <td>3</td>\n",
       "      <td>1165</td>\n",
       "    </tr>\n",
       "    <tr>\n",
       "      <th>2</th>\n",
       "      <td>13950</td>\n",
       "      <td>24.0</td>\n",
       "      <td>41711.0</td>\n",
       "      <td>Diesel</td>\n",
       "      <td>90</td>\n",
       "      <td>NaN</td>\n",
       "      <td>0</td>\n",
       "      <td>2000</td>\n",
       "      <td>3</td>\n",
       "      <td>1165</td>\n",
       "    </tr>\n",
       "    <tr>\n",
       "      <th>3</th>\n",
       "      <td>14950</td>\n",
       "      <td>26.0</td>\n",
       "      <td>48000.0</td>\n",
       "      <td>Diesel</td>\n",
       "      <td>90</td>\n",
       "      <td>0.0</td>\n",
       "      <td>0</td>\n",
       "      <td>2000</td>\n",
       "      <td>3</td>\n",
       "      <td>1165</td>\n",
       "    </tr>\n",
       "    <tr>\n",
       "      <th>4</th>\n",
       "      <td>13750</td>\n",
       "      <td>30.0</td>\n",
       "      <td>38500.0</td>\n",
       "      <td>Diesel</td>\n",
       "      <td>90</td>\n",
       "      <td>0.0</td>\n",
       "      <td>0</td>\n",
       "      <td>2000</td>\n",
       "      <td>3</td>\n",
       "      <td>1170</td>\n",
       "    </tr>\n",
       "    <tr>\n",
       "      <th>...</th>\n",
       "      <td>...</td>\n",
       "      <td>...</td>\n",
       "      <td>...</td>\n",
       "      <td>...</td>\n",
       "      <td>...</td>\n",
       "      <td>...</td>\n",
       "      <td>...</td>\n",
       "      <td>...</td>\n",
       "      <td>...</td>\n",
       "      <td>...</td>\n",
       "    </tr>\n",
       "    <tr>\n",
       "      <th>1431</th>\n",
       "      <td>7500</td>\n",
       "      <td>NaN</td>\n",
       "      <td>20544.0</td>\n",
       "      <td>Petrol</td>\n",
       "      <td>86</td>\n",
       "      <td>1.0</td>\n",
       "      <td>0</td>\n",
       "      <td>1300</td>\n",
       "      <td>3</td>\n",
       "      <td>1025</td>\n",
       "    </tr>\n",
       "    <tr>\n",
       "      <th>1432</th>\n",
       "      <td>10845</td>\n",
       "      <td>72.0</td>\n",
       "      <td>NaN</td>\n",
       "      <td>Petrol</td>\n",
       "      <td>86</td>\n",
       "      <td>0.0</td>\n",
       "      <td>0</td>\n",
       "      <td>1300</td>\n",
       "      <td>3</td>\n",
       "      <td>1015</td>\n",
       "    </tr>\n",
       "    <tr>\n",
       "      <th>1433</th>\n",
       "      <td>8500</td>\n",
       "      <td>NaN</td>\n",
       "      <td>17016.0</td>\n",
       "      <td>Petrol</td>\n",
       "      <td>86</td>\n",
       "      <td>0.0</td>\n",
       "      <td>0</td>\n",
       "      <td>1300</td>\n",
       "      <td>3</td>\n",
       "      <td>1015</td>\n",
       "    </tr>\n",
       "    <tr>\n",
       "      <th>1434</th>\n",
       "      <td>7250</td>\n",
       "      <td>70.0</td>\n",
       "      <td>NaN</td>\n",
       "      <td>NaN</td>\n",
       "      <td>86</td>\n",
       "      <td>1.0</td>\n",
       "      <td>0</td>\n",
       "      <td>1300</td>\n",
       "      <td>3</td>\n",
       "      <td>1015</td>\n",
       "    </tr>\n",
       "    <tr>\n",
       "      <th>1435</th>\n",
       "      <td>6950</td>\n",
       "      <td>76.0</td>\n",
       "      <td>1.0</td>\n",
       "      <td>Petrol</td>\n",
       "      <td>110</td>\n",
       "      <td>0.0</td>\n",
       "      <td>0</td>\n",
       "      <td>1600</td>\n",
       "      <td>5</td>\n",
       "      <td>1114</td>\n",
       "    </tr>\n",
       "  </tbody>\n",
       "</table>\n",
       "<p>1436 rows × 10 columns</p>\n",
       "</div>"
      ],
      "text/plain": [
       "      Price   Age       KM FuelType   HP  MetColor  Automatic    CC  Doors  \\\n",
       "0     13500  23.0  46986.0   Diesel   90       1.0          0  2000  three   \n",
       "1     13750  23.0  72937.0   Diesel   90       1.0          0  2000      3   \n",
       "2     13950  24.0  41711.0   Diesel   90       NaN          0  2000      3   \n",
       "3     14950  26.0  48000.0   Diesel   90       0.0          0  2000      3   \n",
       "4     13750  30.0  38500.0   Diesel   90       0.0          0  2000      3   \n",
       "...     ...   ...      ...      ...  ...       ...        ...   ...    ...   \n",
       "1431   7500   NaN  20544.0   Petrol   86       1.0          0  1300      3   \n",
       "1432  10845  72.0      NaN   Petrol   86       0.0          0  1300      3   \n",
       "1433   8500   NaN  17016.0   Petrol   86       0.0          0  1300      3   \n",
       "1434   7250  70.0      NaN      NaN   86       1.0          0  1300      3   \n",
       "1435   6950  76.0      1.0   Petrol  110       0.0          0  1600      5   \n",
       "\n",
       "      Weight  \n",
       "0       1165  \n",
       "1       1165  \n",
       "2       1165  \n",
       "3       1165  \n",
       "4       1170  \n",
       "...      ...  \n",
       "1431    1025  \n",
       "1432    1015  \n",
       "1433    1015  \n",
       "1434    1015  \n",
       "1435    1114  \n",
       "\n",
       "[1436 rows x 10 columns]"
      ]
     },
     "execution_count": 4,
     "metadata": {},
     "output_type": "execute_result"
    }
   ],
   "source": [
    "data_set"
   ]
  },
  {
   "cell_type": "markdown",
   "id": "28973c9c-5bac-46d1-8d88-ee18920fdf0a",
   "metadata": {},
   "source": [
    "## Getting the indexes"
   ]
  },
  {
   "cell_type": "code",
   "execution_count": 5,
   "id": "3f1b6f54-fcc8-443b-bde0-82e21ad94453",
   "metadata": {},
   "outputs": [
    {
     "data": {
      "text/plain": [
       "Index([   0,    1,    2,    3,    4,    5,    6,    7,    8,    9,\n",
       "       ...\n",
       "       1426, 1427, 1428, 1429, 1430, 1431, 1432, 1433, 1434, 1435],\n",
       "      dtype='int64', length=1436)"
      ]
     },
     "execution_count": 5,
     "metadata": {},
     "output_type": "execute_result"
    }
   ],
   "source": [
    "data_set.index"
   ]
  },
  {
   "cell_type": "markdown",
   "id": "e83a88cd-5b15-4d6b-9dee-48cc2ca63b30",
   "metadata": {},
   "source": [
    "## Getting columns"
   ]
  },
  {
   "cell_type": "code",
   "execution_count": 6,
   "id": "d77602a9-1d49-4798-9562-30cc757530d6",
   "metadata": {},
   "outputs": [
    {
     "data": {
      "text/plain": [
       "Index(['Price', 'Age', 'KM', 'FuelType', 'HP', 'MetColor', 'Automatic', 'CC',\n",
       "       'Doors', 'Weight'],\n",
       "      dtype='object')"
      ]
     },
     "execution_count": 6,
     "metadata": {},
     "output_type": "execute_result"
    }
   ],
   "source": [
    "data_set.columns"
   ]
  },
  {
   "cell_type": "markdown",
   "id": "f75b9f8c-da37-42b8-8ec2-d32c70722841",
   "metadata": {},
   "source": [
    "## Getting no. of rows and columns"
   ]
  },
  {
   "cell_type": "code",
   "execution_count": 7,
   "id": "922b8bc1-da47-44b8-a750-92f7a2d4c577",
   "metadata": {},
   "outputs": [
    {
     "data": {
      "text/plain": [
       "(1436, 10)"
      ]
     },
     "execution_count": 7,
     "metadata": {},
     "output_type": "execute_result"
    }
   ],
   "source": [
    "data_set.shape"
   ]
  },
  {
   "cell_type": "markdown",
   "id": "6cfb1d4e-6aa9-4dbe-ac01-01d0422fb307",
   "metadata": {},
   "source": [
    "## Memory usase by each columns"
   ]
  },
  {
   "cell_type": "code",
   "execution_count": 8,
   "id": "447b4a0b-df3f-46fd-b9f7-6e29948a9736",
   "metadata": {},
   "outputs": [
    {
     "data": {
      "text/plain": [
       "Index        11488\n",
       "Price        11488\n",
       "Age          11488\n",
       "KM           11488\n",
       "FuelType     11488\n",
       "HP           11488\n",
       "MetColor     11488\n",
       "Automatic    11488\n",
       "CC           11488\n",
       "Doors        11488\n",
       "Weight       11488\n",
       "dtype: int64"
      ]
     },
     "execution_count": 8,
     "metadata": {},
     "output_type": "execute_result"
    }
   ],
   "source": [
    "data_set.memory_usage()"
   ]
  },
  {
   "cell_type": "markdown",
   "id": "60f9e1d4-1a6a-4403-8aa9-b2faf37257a7",
   "metadata": {},
   "source": [
    "## Dimensions"
   ]
  },
  {
   "cell_type": "code",
   "execution_count": 9,
   "id": "d7ff5fac-9fff-48c5-af9f-da77c5ac5da9",
   "metadata": {},
   "outputs": [
    {
     "data": {
      "text/plain": [
       "2"
      ]
     },
     "execution_count": 9,
     "metadata": {},
     "output_type": "execute_result"
    }
   ],
   "source": [
    "data_set.ndim"
   ]
  },
  {
   "cell_type": "markdown",
   "id": "6adc587c-2fbd-4a2a-8b5a-3aa021154319",
   "metadata": {},
   "source": [
    "## Some top rows"
   ]
  },
  {
   "cell_type": "code",
   "execution_count": 10,
   "id": "e3b696c7-537d-4de7-a4e6-218be73c409d",
   "metadata": {},
   "outputs": [
    {
     "data": {
      "text/html": [
       "<div>\n",
       "<style scoped>\n",
       "    .dataframe tbody tr th:only-of-type {\n",
       "        vertical-align: middle;\n",
       "    }\n",
       "\n",
       "    .dataframe tbody tr th {\n",
       "        vertical-align: top;\n",
       "    }\n",
       "\n",
       "    .dataframe thead th {\n",
       "        text-align: right;\n",
       "    }\n",
       "</style>\n",
       "<table border=\"1\" class=\"dataframe\">\n",
       "  <thead>\n",
       "    <tr style=\"text-align: right;\">\n",
       "      <th></th>\n",
       "      <th>Price</th>\n",
       "      <th>Age</th>\n",
       "      <th>KM</th>\n",
       "      <th>FuelType</th>\n",
       "      <th>HP</th>\n",
       "      <th>MetColor</th>\n",
       "      <th>Automatic</th>\n",
       "      <th>CC</th>\n",
       "      <th>Doors</th>\n",
       "      <th>Weight</th>\n",
       "    </tr>\n",
       "  </thead>\n",
       "  <tbody>\n",
       "    <tr>\n",
       "      <th>0</th>\n",
       "      <td>13500</td>\n",
       "      <td>23.0</td>\n",
       "      <td>46986.0</td>\n",
       "      <td>Diesel</td>\n",
       "      <td>90</td>\n",
       "      <td>1.0</td>\n",
       "      <td>0</td>\n",
       "      <td>2000</td>\n",
       "      <td>three</td>\n",
       "      <td>1165</td>\n",
       "    </tr>\n",
       "    <tr>\n",
       "      <th>1</th>\n",
       "      <td>13750</td>\n",
       "      <td>23.0</td>\n",
       "      <td>72937.0</td>\n",
       "      <td>Diesel</td>\n",
       "      <td>90</td>\n",
       "      <td>1.0</td>\n",
       "      <td>0</td>\n",
       "      <td>2000</td>\n",
       "      <td>3</td>\n",
       "      <td>1165</td>\n",
       "    </tr>\n",
       "    <tr>\n",
       "      <th>2</th>\n",
       "      <td>13950</td>\n",
       "      <td>24.0</td>\n",
       "      <td>41711.0</td>\n",
       "      <td>Diesel</td>\n",
       "      <td>90</td>\n",
       "      <td>NaN</td>\n",
       "      <td>0</td>\n",
       "      <td>2000</td>\n",
       "      <td>3</td>\n",
       "      <td>1165</td>\n",
       "    </tr>\n",
       "    <tr>\n",
       "      <th>3</th>\n",
       "      <td>14950</td>\n",
       "      <td>26.0</td>\n",
       "      <td>48000.0</td>\n",
       "      <td>Diesel</td>\n",
       "      <td>90</td>\n",
       "      <td>0.0</td>\n",
       "      <td>0</td>\n",
       "      <td>2000</td>\n",
       "      <td>3</td>\n",
       "      <td>1165</td>\n",
       "    </tr>\n",
       "    <tr>\n",
       "      <th>4</th>\n",
       "      <td>13750</td>\n",
       "      <td>30.0</td>\n",
       "      <td>38500.0</td>\n",
       "      <td>Diesel</td>\n",
       "      <td>90</td>\n",
       "      <td>0.0</td>\n",
       "      <td>0</td>\n",
       "      <td>2000</td>\n",
       "      <td>3</td>\n",
       "      <td>1170</td>\n",
       "    </tr>\n",
       "  </tbody>\n",
       "</table>\n",
       "</div>"
      ],
      "text/plain": [
       "   Price   Age       KM FuelType  HP  MetColor  Automatic    CC  Doors  Weight\n",
       "0  13500  23.0  46986.0   Diesel  90       1.0          0  2000  three    1165\n",
       "1  13750  23.0  72937.0   Diesel  90       1.0          0  2000      3    1165\n",
       "2  13950  24.0  41711.0   Diesel  90       NaN          0  2000      3    1165\n",
       "3  14950  26.0  48000.0   Diesel  90       0.0          0  2000      3    1165\n",
       "4  13750  30.0  38500.0   Diesel  90       0.0          0  2000      3    1170"
      ]
     },
     "execution_count": 10,
     "metadata": {},
     "output_type": "execute_result"
    }
   ],
   "source": [
    "data_set.head()"
   ]
  },
  {
   "cell_type": "markdown",
   "id": "8c3136b8-6284-472d-9c76-ef39b38af5ea",
   "metadata": {},
   "source": [
    "## Some bottom rows"
   ]
  },
  {
   "cell_type": "code",
   "execution_count": 11,
   "id": "e21512d9-1387-48c7-a75a-678120bafba8",
   "metadata": {},
   "outputs": [
    {
     "data": {
      "text/html": [
       "<div>\n",
       "<style scoped>\n",
       "    .dataframe tbody tr th:only-of-type {\n",
       "        vertical-align: middle;\n",
       "    }\n",
       "\n",
       "    .dataframe tbody tr th {\n",
       "        vertical-align: top;\n",
       "    }\n",
       "\n",
       "    .dataframe thead th {\n",
       "        text-align: right;\n",
       "    }\n",
       "</style>\n",
       "<table border=\"1\" class=\"dataframe\">\n",
       "  <thead>\n",
       "    <tr style=\"text-align: right;\">\n",
       "      <th></th>\n",
       "      <th>Price</th>\n",
       "      <th>Age</th>\n",
       "      <th>KM</th>\n",
       "      <th>FuelType</th>\n",
       "      <th>HP</th>\n",
       "      <th>MetColor</th>\n",
       "      <th>Automatic</th>\n",
       "      <th>CC</th>\n",
       "      <th>Doors</th>\n",
       "      <th>Weight</th>\n",
       "    </tr>\n",
       "  </thead>\n",
       "  <tbody>\n",
       "    <tr>\n",
       "      <th>1431</th>\n",
       "      <td>7500</td>\n",
       "      <td>NaN</td>\n",
       "      <td>20544.0</td>\n",
       "      <td>Petrol</td>\n",
       "      <td>86</td>\n",
       "      <td>1.0</td>\n",
       "      <td>0</td>\n",
       "      <td>1300</td>\n",
       "      <td>3</td>\n",
       "      <td>1025</td>\n",
       "    </tr>\n",
       "    <tr>\n",
       "      <th>1432</th>\n",
       "      <td>10845</td>\n",
       "      <td>72.0</td>\n",
       "      <td>NaN</td>\n",
       "      <td>Petrol</td>\n",
       "      <td>86</td>\n",
       "      <td>0.0</td>\n",
       "      <td>0</td>\n",
       "      <td>1300</td>\n",
       "      <td>3</td>\n",
       "      <td>1015</td>\n",
       "    </tr>\n",
       "    <tr>\n",
       "      <th>1433</th>\n",
       "      <td>8500</td>\n",
       "      <td>NaN</td>\n",
       "      <td>17016.0</td>\n",
       "      <td>Petrol</td>\n",
       "      <td>86</td>\n",
       "      <td>0.0</td>\n",
       "      <td>0</td>\n",
       "      <td>1300</td>\n",
       "      <td>3</td>\n",
       "      <td>1015</td>\n",
       "    </tr>\n",
       "    <tr>\n",
       "      <th>1434</th>\n",
       "      <td>7250</td>\n",
       "      <td>70.0</td>\n",
       "      <td>NaN</td>\n",
       "      <td>NaN</td>\n",
       "      <td>86</td>\n",
       "      <td>1.0</td>\n",
       "      <td>0</td>\n",
       "      <td>1300</td>\n",
       "      <td>3</td>\n",
       "      <td>1015</td>\n",
       "    </tr>\n",
       "    <tr>\n",
       "      <th>1435</th>\n",
       "      <td>6950</td>\n",
       "      <td>76.0</td>\n",
       "      <td>1.0</td>\n",
       "      <td>Petrol</td>\n",
       "      <td>110</td>\n",
       "      <td>0.0</td>\n",
       "      <td>0</td>\n",
       "      <td>1600</td>\n",
       "      <td>5</td>\n",
       "      <td>1114</td>\n",
       "    </tr>\n",
       "  </tbody>\n",
       "</table>\n",
       "</div>"
      ],
      "text/plain": [
       "      Price   Age       KM FuelType   HP  MetColor  Automatic    CC Doors  \\\n",
       "1431   7500   NaN  20544.0   Petrol   86       1.0          0  1300     3   \n",
       "1432  10845  72.0      NaN   Petrol   86       0.0          0  1300     3   \n",
       "1433   8500   NaN  17016.0   Petrol   86       0.0          0  1300     3   \n",
       "1434   7250  70.0      NaN      NaN   86       1.0          0  1300     3   \n",
       "1435   6950  76.0      1.0   Petrol  110       0.0          0  1600     5   \n",
       "\n",
       "      Weight  \n",
       "1431    1025  \n",
       "1432    1015  \n",
       "1433    1015  \n",
       "1434    1015  \n",
       "1435    1114  "
      ]
     },
     "execution_count": 11,
     "metadata": {},
     "output_type": "execute_result"
    }
   ],
   "source": [
    "data_set.tail()"
   ]
  },
  {
   "cell_type": "code",
   "execution_count": 12,
   "id": "27e99c22-8131-4131-b78c-c74b26169d07",
   "metadata": {},
   "outputs": [
    {
     "data": {
      "text/plain": [
       "'Diesel'"
      ]
     },
     "execution_count": 12,
     "metadata": {},
     "output_type": "execute_result"
    }
   ],
   "source": [
    "data_set.at[4,'FuelType']"
   ]
  },
  {
   "cell_type": "code",
   "execution_count": 13,
   "id": "196ebb34-540e-4e5e-a9bf-1b35fb113f29",
   "metadata": {},
   "outputs": [
    {
     "data": {
      "text/plain": [
       "'Diesel'"
      ]
     },
     "execution_count": 13,
     "metadata": {},
     "output_type": "execute_result"
    }
   ],
   "source": [
    "data_set.iat[4,3]"
   ]
  },
  {
   "cell_type": "code",
   "execution_count": 14,
   "id": "618f38e1-2517-47f1-824b-2f2fc0b084db",
   "metadata": {},
   "outputs": [
    {
     "data": {
      "text/plain": [
       "0       Diesel\n",
       "1       Diesel\n",
       "2       Diesel\n",
       "3       Diesel\n",
       "4       Diesel\n",
       "         ...  \n",
       "1431    Petrol\n",
       "1432    Petrol\n",
       "1433    Petrol\n",
       "1434       NaN\n",
       "1435    Petrol\n",
       "Name: FuelType, Length: 1436, dtype: object"
      ]
     },
     "execution_count": 14,
     "metadata": {},
     "output_type": "execute_result"
    }
   ],
   "source": [
    "data_set.loc[:,'FuelType']"
   ]
  },
  {
   "cell_type": "markdown",
   "id": "1e5dc7c0-c7ab-4e79-ab7b-dfaad6f4d1a0",
   "metadata": {},
   "source": [
    "## Checking data types"
   ]
  },
  {
   "cell_type": "code",
   "execution_count": 15,
   "id": "1b3ae655-09cf-4a5b-a651-8cfbc4e65e8d",
   "metadata": {},
   "outputs": [
    {
     "data": {
      "text/plain": [
       "Price          int64\n",
       "Age          float64\n",
       "KM           float64\n",
       "FuelType      object\n",
       "HP            object\n",
       "MetColor     float64\n",
       "Automatic      int64\n",
       "CC             int64\n",
       "Doors         object\n",
       "Weight         int64\n",
       "dtype: object"
      ]
     },
     "execution_count": 15,
     "metadata": {},
     "output_type": "execute_result"
    }
   ],
   "source": [
    "data_set.dtypes"
   ]
  },
  {
   "cell_type": "markdown",
   "id": "4876999f-3bce-42a1-ac25-bb348b8a9318",
   "metadata": {},
   "source": [
    "## Count of unique data types"
   ]
  },
  {
   "cell_type": "code",
   "execution_count": 16,
   "id": "e1ce9bc2-8e94-4ea8-b226-e7cae3e188bb",
   "metadata": {},
   "outputs": [
    {
     "data": {
      "text/plain": [
       "int64      4\n",
       "float64    3\n",
       "object     3\n",
       "Name: count, dtype: int64"
      ]
     },
     "execution_count": 16,
     "metadata": {},
     "output_type": "execute_result"
    }
   ],
   "source": [
    "data_set.dtypes.value_counts()"
   ]
  },
  {
   "cell_type": "markdown",
   "id": "8609cb87-d54e-4200-a074-49614a5e1f32",
   "metadata": {},
   "source": [
    "## Selecting data based on the data types"
   ]
  },
  {
   "cell_type": "code",
   "execution_count": 17,
   "id": "931d0797-bf76-4f58-98cb-5897249683cd",
   "metadata": {},
   "outputs": [
    {
     "data": {
      "text/html": [
       "<div>\n",
       "<style scoped>\n",
       "    .dataframe tbody tr th:only-of-type {\n",
       "        vertical-align: middle;\n",
       "    }\n",
       "\n",
       "    .dataframe tbody tr th {\n",
       "        vertical-align: top;\n",
       "    }\n",
       "\n",
       "    .dataframe thead th {\n",
       "        text-align: right;\n",
       "    }\n",
       "</style>\n",
       "<table border=\"1\" class=\"dataframe\">\n",
       "  <thead>\n",
       "    <tr style=\"text-align: right;\">\n",
       "      <th></th>\n",
       "      <th>Price</th>\n",
       "      <th>Age</th>\n",
       "      <th>KM</th>\n",
       "      <th>MetColor</th>\n",
       "      <th>Automatic</th>\n",
       "      <th>CC</th>\n",
       "      <th>Weight</th>\n",
       "    </tr>\n",
       "  </thead>\n",
       "  <tbody>\n",
       "    <tr>\n",
       "      <th>0</th>\n",
       "      <td>13500</td>\n",
       "      <td>23.0</td>\n",
       "      <td>46986.0</td>\n",
       "      <td>1.0</td>\n",
       "      <td>0</td>\n",
       "      <td>2000</td>\n",
       "      <td>1165</td>\n",
       "    </tr>\n",
       "    <tr>\n",
       "      <th>1</th>\n",
       "      <td>13750</td>\n",
       "      <td>23.0</td>\n",
       "      <td>72937.0</td>\n",
       "      <td>1.0</td>\n",
       "      <td>0</td>\n",
       "      <td>2000</td>\n",
       "      <td>1165</td>\n",
       "    </tr>\n",
       "    <tr>\n",
       "      <th>2</th>\n",
       "      <td>13950</td>\n",
       "      <td>24.0</td>\n",
       "      <td>41711.0</td>\n",
       "      <td>NaN</td>\n",
       "      <td>0</td>\n",
       "      <td>2000</td>\n",
       "      <td>1165</td>\n",
       "    </tr>\n",
       "    <tr>\n",
       "      <th>3</th>\n",
       "      <td>14950</td>\n",
       "      <td>26.0</td>\n",
       "      <td>48000.0</td>\n",
       "      <td>0.0</td>\n",
       "      <td>0</td>\n",
       "      <td>2000</td>\n",
       "      <td>1165</td>\n",
       "    </tr>\n",
       "    <tr>\n",
       "      <th>4</th>\n",
       "      <td>13750</td>\n",
       "      <td>30.0</td>\n",
       "      <td>38500.0</td>\n",
       "      <td>0.0</td>\n",
       "      <td>0</td>\n",
       "      <td>2000</td>\n",
       "      <td>1170</td>\n",
       "    </tr>\n",
       "    <tr>\n",
       "      <th>...</th>\n",
       "      <td>...</td>\n",
       "      <td>...</td>\n",
       "      <td>...</td>\n",
       "      <td>...</td>\n",
       "      <td>...</td>\n",
       "      <td>...</td>\n",
       "      <td>...</td>\n",
       "    </tr>\n",
       "    <tr>\n",
       "      <th>1431</th>\n",
       "      <td>7500</td>\n",
       "      <td>NaN</td>\n",
       "      <td>20544.0</td>\n",
       "      <td>1.0</td>\n",
       "      <td>0</td>\n",
       "      <td>1300</td>\n",
       "      <td>1025</td>\n",
       "    </tr>\n",
       "    <tr>\n",
       "      <th>1432</th>\n",
       "      <td>10845</td>\n",
       "      <td>72.0</td>\n",
       "      <td>NaN</td>\n",
       "      <td>0.0</td>\n",
       "      <td>0</td>\n",
       "      <td>1300</td>\n",
       "      <td>1015</td>\n",
       "    </tr>\n",
       "    <tr>\n",
       "      <th>1433</th>\n",
       "      <td>8500</td>\n",
       "      <td>NaN</td>\n",
       "      <td>17016.0</td>\n",
       "      <td>0.0</td>\n",
       "      <td>0</td>\n",
       "      <td>1300</td>\n",
       "      <td>1015</td>\n",
       "    </tr>\n",
       "    <tr>\n",
       "      <th>1434</th>\n",
       "      <td>7250</td>\n",
       "      <td>70.0</td>\n",
       "      <td>NaN</td>\n",
       "      <td>1.0</td>\n",
       "      <td>0</td>\n",
       "      <td>1300</td>\n",
       "      <td>1015</td>\n",
       "    </tr>\n",
       "    <tr>\n",
       "      <th>1435</th>\n",
       "      <td>6950</td>\n",
       "      <td>76.0</td>\n",
       "      <td>1.0</td>\n",
       "      <td>0.0</td>\n",
       "      <td>0</td>\n",
       "      <td>1600</td>\n",
       "      <td>1114</td>\n",
       "    </tr>\n",
       "  </tbody>\n",
       "</table>\n",
       "<p>1436 rows × 7 columns</p>\n",
       "</div>"
      ],
      "text/plain": [
       "      Price   Age       KM  MetColor  Automatic    CC  Weight\n",
       "0     13500  23.0  46986.0       1.0          0  2000    1165\n",
       "1     13750  23.0  72937.0       1.0          0  2000    1165\n",
       "2     13950  24.0  41711.0       NaN          0  2000    1165\n",
       "3     14950  26.0  48000.0       0.0          0  2000    1165\n",
       "4     13750  30.0  38500.0       0.0          0  2000    1170\n",
       "...     ...   ...      ...       ...        ...   ...     ...\n",
       "1431   7500   NaN  20544.0       1.0          0  1300    1025\n",
       "1432  10845  72.0      NaN       0.0          0  1300    1015\n",
       "1433   8500   NaN  17016.0       0.0          0  1300    1015\n",
       "1434   7250  70.0      NaN       1.0          0  1300    1015\n",
       "1435   6950  76.0      1.0       0.0          0  1600    1114\n",
       "\n",
       "[1436 rows x 7 columns]"
      ]
     },
     "execution_count": 17,
     "metadata": {},
     "output_type": "execute_result"
    }
   ],
   "source": [
    "data_set.select_dtypes(exclude=['object'])"
   ]
  },
  {
   "cell_type": "markdown",
   "id": "9827a51a-4754-4af8-8f3e-0756723dd183",
   "metadata": {},
   "source": [
    "## Consise summary of data"
   ]
  },
  {
   "cell_type": "code",
   "execution_count": 18,
   "id": "192394c2-e77b-4060-878e-db23969f8ee4",
   "metadata": {},
   "outputs": [
    {
     "name": "stdout",
     "output_type": "stream",
     "text": [
      "<class 'pandas.core.frame.DataFrame'>\n",
      "Index: 1436 entries, 0 to 1435\n",
      "Data columns (total 10 columns):\n",
      " #   Column     Non-Null Count  Dtype  \n",
      "---  ------     --------------  -----  \n",
      " 0   Price      1436 non-null   int64  \n",
      " 1   Age        1336 non-null   float64\n",
      " 2   KM         1421 non-null   float64\n",
      " 3   FuelType   1336 non-null   object \n",
      " 4   HP         1436 non-null   object \n",
      " 5   MetColor   1286 non-null   float64\n",
      " 6   Automatic  1436 non-null   int64  \n",
      " 7   CC         1436 non-null   int64  \n",
      " 8   Doors      1436 non-null   object \n",
      " 9   Weight     1436 non-null   int64  \n",
      "dtypes: float64(3), int64(4), object(3)\n",
      "memory usage: 155.7+ KB\n"
     ]
    }
   ],
   "source": [
    "data_set.info()"
   ]
  },
  {
   "cell_type": "code",
   "execution_count": 19,
   "id": "e467c7bd-d755-4135-a3f7-a3c55d601b56",
   "metadata": {},
   "outputs": [],
   "source": [
    "import numpy as np"
   ]
  },
  {
   "cell_type": "markdown",
   "id": "4b7515ea-2bd7-4a68-b228-0a578b0f463e",
   "metadata": {},
   "source": [
    "## Getting unique values of columns"
   ]
  },
  {
   "cell_type": "code",
   "execution_count": 20,
   "id": "1e447e23-a01d-4016-a833-676815c286cd",
   "metadata": {},
   "outputs": [
    {
     "data": {
      "text/plain": [
       "array([ 1.,  2.,  4.,  6.,  7.,  8.,  9., 10., 11., 12., 13., 14., 15.,\n",
       "       16., 17., 18., 19., 20., 22., 23., 24., 25., 26., 27., 28., 29.,\n",
       "       30., 31., 32., 33., 34., 35., 36., 37., 38., 39., 40., 41., 42.,\n",
       "       43., 44., 45., 46., 47., 48., 49., 50., 51., 52., 53., 54., 55.,\n",
       "       56., 57., 58., 59., 60., 61., 62., 63., 64., 65., 66., 67., 68.,\n",
       "       69., 70., 71., 72., 73., 74., 75., 76., 77., 78., 79., 80., nan])"
      ]
     },
     "execution_count": 20,
     "metadata": {},
     "output_type": "execute_result"
    }
   ],
   "source": [
    "np.unique(data_set['Age'])"
   ]
  },
  {
   "cell_type": "code",
   "execution_count": 21,
   "id": "f64ade57-ce5d-4111-95fc-25f3b905da64",
   "metadata": {},
   "outputs": [
    {
     "data": {
      "text/plain": [
       "array([1.0000e+00, 1.5000e+01, 2.2500e+02, ..., 2.3294e+05, 2.4300e+05,\n",
       "              nan])"
      ]
     },
     "execution_count": 21,
     "metadata": {},
     "output_type": "execute_result"
    }
   ],
   "source": [
    "np.unique(data_set['KM'])"
   ]
  },
  {
   "cell_type": "code",
   "execution_count": 22,
   "id": "ce356aa2-cbc2-47d1-a920-6af71a8d522f",
   "metadata": {},
   "outputs": [
    {
     "data": {
      "text/plain": [
       "array(['107', '110', '116', '192', '69', '71', '72', '73', '86', '90',\n",
       "       '97', '98', '????'], dtype=object)"
      ]
     },
     "execution_count": 22,
     "metadata": {},
     "output_type": "execute_result"
    }
   ],
   "source": [
    "np.unique(data_set['HP'])"
   ]
  },
  {
   "cell_type": "code",
   "execution_count": 23,
   "id": "09ccf1aa-dd79-426d-8095-cc3acebc99a3",
   "metadata": {},
   "outputs": [
    {
     "data": {
      "text/plain": [
       "array([0, 1], dtype=int64)"
      ]
     },
     "execution_count": 23,
     "metadata": {},
     "output_type": "execute_result"
    }
   ],
   "source": [
    "np.unique(data_set['Automatic'])"
   ]
  },
  {
   "cell_type": "code",
   "execution_count": 24,
   "id": "fecff11f-b6ea-40b8-b1ac-c028862582ae",
   "metadata": {},
   "outputs": [
    {
     "data": {
      "text/plain": [
       "array(['2', '3', '4', '5', 'five', 'four', 'three'], dtype=object)"
      ]
     },
     "execution_count": 24,
     "metadata": {},
     "output_type": "execute_result"
    }
   ],
   "source": [
    "np.unique(data_set['Doors'])"
   ]
  },
  {
   "cell_type": "code",
   "execution_count": 25,
   "id": "ca3c3b4b-d2fd-4f1b-96bd-5ea13887252e",
   "metadata": {},
   "outputs": [
    {
     "data": {
      "text/plain": [
       "array([ 0.,  1., nan])"
      ]
     },
     "execution_count": 25,
     "metadata": {},
     "output_type": "execute_result"
    }
   ],
   "source": [
    "np.unique(data_set['MetColor'])"
   ]
  },
  {
   "cell_type": "code",
   "execution_count": 26,
   "id": "444a5f33-77d0-4285-9d4c-373c9107f552",
   "metadata": {},
   "outputs": [],
   "source": [
    "data_set['MetColor']=data_set['MetColor'].astype('object')"
   ]
  },
  {
   "cell_type": "code",
   "execution_count": 27,
   "id": "0fe3241a-8564-477f-bbe4-910da4b20f87",
   "metadata": {},
   "outputs": [],
   "source": [
    "data_set['Automatic']=data_set['Automatic'].astype('object')"
   ]
  },
  {
   "cell_type": "markdown",
   "id": "4ab50c50-ddbf-4125-807a-d24ede0b5477",
   "metadata": {},
   "source": [
    "## Total bytes consumed by column"
   ]
  },
  {
   "cell_type": "code",
   "execution_count": 28,
   "id": "4077531b-707e-4fb5-9953-a192567b2e04",
   "metadata": {},
   "outputs": [
    {
     "data": {
      "text/plain": [
       "11488"
      ]
     },
     "execution_count": 28,
     "metadata": {},
     "output_type": "execute_result"
    }
   ],
   "source": [
    "data_set['FuelType'].nbytes"
   ]
  },
  {
   "cell_type": "code",
   "execution_count": 29,
   "id": "8f8105fc-81db-42dd-bd8d-9d2a2ac71689",
   "metadata": {},
   "outputs": [
    {
     "data": {
      "text/plain": [
       "1460"
      ]
     },
     "execution_count": 29,
     "metadata": {},
     "output_type": "execute_result"
    }
   ],
   "source": [
    "data_set['FuelType'].astype('category').nbytes"
   ]
  },
  {
   "cell_type": "code",
   "execution_count": 30,
   "id": "02db898e-e93e-43f8-a1c1-0c9cd232b18e",
   "metadata": {},
   "outputs": [
    {
     "data": {
      "text/html": [
       "<div>\n",
       "<style scoped>\n",
       "    .dataframe tbody tr th:only-of-type {\n",
       "        vertical-align: middle;\n",
       "    }\n",
       "\n",
       "    .dataframe tbody tr th {\n",
       "        vertical-align: top;\n",
       "    }\n",
       "\n",
       "    .dataframe thead th {\n",
       "        text-align: right;\n",
       "    }\n",
       "</style>\n",
       "<table border=\"1\" class=\"dataframe\">\n",
       "  <thead>\n",
       "    <tr style=\"text-align: right;\">\n",
       "      <th></th>\n",
       "      <th>Price</th>\n",
       "      <th>Age</th>\n",
       "      <th>KM</th>\n",
       "      <th>FuelType</th>\n",
       "      <th>HP</th>\n",
       "      <th>MetColor</th>\n",
       "      <th>Automatic</th>\n",
       "      <th>CC</th>\n",
       "      <th>Doors</th>\n",
       "      <th>Weight</th>\n",
       "    </tr>\n",
       "  </thead>\n",
       "  <tbody>\n",
       "    <tr>\n",
       "      <th>0</th>\n",
       "      <td>13500</td>\n",
       "      <td>23.0</td>\n",
       "      <td>46986.0</td>\n",
       "      <td>Diesel</td>\n",
       "      <td>90</td>\n",
       "      <td>1.0</td>\n",
       "      <td>0</td>\n",
       "      <td>2000</td>\n",
       "      <td>three</td>\n",
       "      <td>1165</td>\n",
       "    </tr>\n",
       "    <tr>\n",
       "      <th>1</th>\n",
       "      <td>13750</td>\n",
       "      <td>23.0</td>\n",
       "      <td>72937.0</td>\n",
       "      <td>Diesel</td>\n",
       "      <td>90</td>\n",
       "      <td>1.0</td>\n",
       "      <td>0</td>\n",
       "      <td>2000</td>\n",
       "      <td>3</td>\n",
       "      <td>1165</td>\n",
       "    </tr>\n",
       "    <tr>\n",
       "      <th>2</th>\n",
       "      <td>13950</td>\n",
       "      <td>24.0</td>\n",
       "      <td>41711.0</td>\n",
       "      <td>Diesel</td>\n",
       "      <td>90</td>\n",
       "      <td>NaN</td>\n",
       "      <td>0</td>\n",
       "      <td>2000</td>\n",
       "      <td>3</td>\n",
       "      <td>1165</td>\n",
       "    </tr>\n",
       "    <tr>\n",
       "      <th>3</th>\n",
       "      <td>14950</td>\n",
       "      <td>26.0</td>\n",
       "      <td>48000.0</td>\n",
       "      <td>Diesel</td>\n",
       "      <td>90</td>\n",
       "      <td>0.0</td>\n",
       "      <td>0</td>\n",
       "      <td>2000</td>\n",
       "      <td>3</td>\n",
       "      <td>1165</td>\n",
       "    </tr>\n",
       "    <tr>\n",
       "      <th>4</th>\n",
       "      <td>13750</td>\n",
       "      <td>30.0</td>\n",
       "      <td>38500.0</td>\n",
       "      <td>Diesel</td>\n",
       "      <td>90</td>\n",
       "      <td>0.0</td>\n",
       "      <td>0</td>\n",
       "      <td>2000</td>\n",
       "      <td>3</td>\n",
       "      <td>1170</td>\n",
       "    </tr>\n",
       "  </tbody>\n",
       "</table>\n",
       "</div>"
      ],
      "text/plain": [
       "   Price   Age       KM FuelType  HP MetColor Automatic    CC  Doors  Weight\n",
       "0  13500  23.0  46986.0   Diesel  90      1.0         0  2000  three    1165\n",
       "1  13750  23.0  72937.0   Diesel  90      1.0         0  2000      3    1165\n",
       "2  13950  24.0  41711.0   Diesel  90      NaN         0  2000      3    1165\n",
       "3  14950  26.0  48000.0   Diesel  90      0.0         0  2000      3    1165\n",
       "4  13750  30.0  38500.0   Diesel  90      0.0         0  2000      3    1170"
      ]
     },
     "execution_count": 30,
     "metadata": {},
     "output_type": "execute_result"
    }
   ],
   "source": [
    "data_set.head()"
   ]
  },
  {
   "cell_type": "code",
   "execution_count": 31,
   "id": "e0322e5a-2432-4703-b47f-1a24ec716995",
   "metadata": {},
   "outputs": [
    {
     "name": "stdout",
     "output_type": "stream",
     "text": [
      "<class 'pandas.core.frame.DataFrame'>\n",
      "Index: 1436 entries, 0 to 1435\n",
      "Data columns (total 10 columns):\n",
      " #   Column     Non-Null Count  Dtype  \n",
      "---  ------     --------------  -----  \n",
      " 0   Price      1436 non-null   int64  \n",
      " 1   Age        1336 non-null   float64\n",
      " 2   KM         1421 non-null   float64\n",
      " 3   FuelType   1336 non-null   object \n",
      " 4   HP         1436 non-null   object \n",
      " 5   MetColor   1286 non-null   object \n",
      " 6   Automatic  1436 non-null   object \n",
      " 7   CC         1436 non-null   int64  \n",
      " 8   Doors      1436 non-null   object \n",
      " 9   Weight     1436 non-null   int64  \n",
      "dtypes: float64(2), int64(3), object(5)\n",
      "memory usage: 155.7+ KB\n"
     ]
    }
   ],
   "source": [
    "data_set.info()"
   ]
  },
  {
   "cell_type": "markdown",
   "id": "2ba83975-dde7-4c10-b136-0a4581a0e58d",
   "metadata": {},
   "source": [
    "## Cleaning column doors"
   ]
  },
  {
   "cell_type": "code",
   "execution_count": 32,
   "id": "6cc1b587-7aee-42c6-ad5d-9a74e77a4096",
   "metadata": {},
   "outputs": [
    {
     "data": {
      "text/plain": [
       "array(['2', '3', '4', '5', 'five', 'four', 'three'], dtype=object)"
      ]
     },
     "execution_count": 32,
     "metadata": {},
     "output_type": "execute_result"
    }
   ],
   "source": [
    "np.unique(data_set['Doors'])"
   ]
  },
  {
   "cell_type": "code",
   "execution_count": 33,
   "id": "ae35afdf-ff8f-4e9d-9a6e-ef5a71e77dad",
   "metadata": {},
   "outputs": [],
   "source": [
    "data_set['Doors'].replace('five',5,inplace=True)"
   ]
  },
  {
   "cell_type": "code",
   "execution_count": 34,
   "id": "5afb15d7-0b49-4819-ac65-8a4c1e570527",
   "metadata": {},
   "outputs": [],
   "source": [
    "data_set['Doors'].replace('four',4,inplace=True)"
   ]
  },
  {
   "cell_type": "code",
   "execution_count": 35,
   "id": "e47dbc0b-8fa4-4d35-ad4e-ed856e53c5e4",
   "metadata": {},
   "outputs": [],
   "source": [
    "data_set['Doors'].replace('three',5,inplace=True)"
   ]
  },
  {
   "cell_type": "code",
   "execution_count": 36,
   "id": "8a40ddc3-cef1-4863-8bfa-bdff440d9405",
   "metadata": {},
   "outputs": [],
   "source": [
    "data_set['Doors']=data_set['Doors'].astype('int64')"
   ]
  },
  {
   "cell_type": "code",
   "execution_count": 37,
   "id": "278b06fe-5b21-4d62-8193-d843a15afeed",
   "metadata": {},
   "outputs": [
    {
     "data": {
      "text/plain": [
       "array([2, 3, 4, 5], dtype=int64)"
      ]
     },
     "execution_count": 37,
     "metadata": {},
     "output_type": "execute_result"
    }
   ],
   "source": [
    "np.unique(data_set['Doors'])"
   ]
  },
  {
   "cell_type": "code",
   "execution_count": 38,
   "id": "9f0dcd7b-1445-4dd6-9d29-57a67054f7c9",
   "metadata": {},
   "outputs": [
    {
     "name": "stdout",
     "output_type": "stream",
     "text": [
      "<class 'pandas.core.frame.DataFrame'>\n",
      "Index: 1436 entries, 0 to 1435\n",
      "Data columns (total 10 columns):\n",
      " #   Column     Non-Null Count  Dtype  \n",
      "---  ------     --------------  -----  \n",
      " 0   Price      1436 non-null   int64  \n",
      " 1   Age        1336 non-null   float64\n",
      " 2   KM         1421 non-null   float64\n",
      " 3   FuelType   1336 non-null   object \n",
      " 4   HP         1436 non-null   object \n",
      " 5   MetColor   1286 non-null   object \n",
      " 6   Automatic  1436 non-null   object \n",
      " 7   CC         1436 non-null   int64  \n",
      " 8   Doors      1436 non-null   int64  \n",
      " 9   Weight     1436 non-null   int64  \n",
      "dtypes: float64(2), int64(4), object(4)\n",
      "memory usage: 155.7+ KB\n"
     ]
    }
   ],
   "source": [
    "data_set.info()"
   ]
  },
  {
   "cell_type": "markdown",
   "id": "74264c99-69ab-4dca-8947-03f145c5dfd4",
   "metadata": {},
   "source": [
    "## Detecting missing values"
   ]
  },
  {
   "cell_type": "code",
   "execution_count": 39,
   "id": "15501534-688b-4aac-a18f-0cb2b66cc9fa",
   "metadata": {},
   "outputs": [
    {
     "data": {
      "text/plain": [
       "Price          0\n",
       "Age          100\n",
       "KM            15\n",
       "FuelType     100\n",
       "HP             0\n",
       "MetColor     150\n",
       "Automatic      0\n",
       "CC             0\n",
       "Doors          0\n",
       "Weight         0\n",
       "dtype: int64"
      ]
     },
     "execution_count": 39,
     "metadata": {},
     "output_type": "execute_result"
    }
   ],
   "source": [
    "data_set.isnull().sum()"
   ]
  },
  {
   "cell_type": "code",
   "execution_count": 40,
   "id": "ba24920c-1bc5-4139-b443-0976ec59484e",
   "metadata": {},
   "outputs": [],
   "source": [
    "def price_class(price):\n",
    "    if price<=8450:\n",
    "        return \"Low\"\n",
    "    elif price>11950:\n",
    "        return \"High\"\n",
    "    else:\n",
    "        return \"Medium\""
   ]
  },
  {
   "cell_type": "code",
   "execution_count": 41,
   "id": "02b3fb38-da96-4615-a64f-fc5f8fc296f8",
   "metadata": {},
   "outputs": [],
   "source": [
    "data_set['Price_Class']=data_set['Price'].apply(price_class)"
   ]
  },
  {
   "cell_type": "code",
   "execution_count": 42,
   "id": "a7926edf-6b70-4ef7-87c1-8185df9ec0a5",
   "metadata": {},
   "outputs": [],
   "source": [
    "##data_set.drop('Price_Class',axis=1,inplace=True)"
   ]
  },
  {
   "cell_type": "code",
   "execution_count": 43,
   "id": "7aa0c6a4-d32e-43f1-9754-12427aa733c0",
   "metadata": {},
   "outputs": [
    {
     "data": {
      "text/html": [
       "<div>\n",
       "<style scoped>\n",
       "    .dataframe tbody tr th:only-of-type {\n",
       "        vertical-align: middle;\n",
       "    }\n",
       "\n",
       "    .dataframe tbody tr th {\n",
       "        vertical-align: top;\n",
       "    }\n",
       "\n",
       "    .dataframe thead th {\n",
       "        text-align: right;\n",
       "    }\n",
       "</style>\n",
       "<table border=\"1\" class=\"dataframe\">\n",
       "  <thead>\n",
       "    <tr style=\"text-align: right;\">\n",
       "      <th></th>\n",
       "      <th>Price</th>\n",
       "      <th>Age</th>\n",
       "      <th>KM</th>\n",
       "      <th>FuelType</th>\n",
       "      <th>HP</th>\n",
       "      <th>MetColor</th>\n",
       "      <th>Automatic</th>\n",
       "      <th>CC</th>\n",
       "      <th>Doors</th>\n",
       "      <th>Weight</th>\n",
       "      <th>Price_Class</th>\n",
       "    </tr>\n",
       "  </thead>\n",
       "  <tbody>\n",
       "    <tr>\n",
       "      <th>0</th>\n",
       "      <td>13500</td>\n",
       "      <td>23.0</td>\n",
       "      <td>46986.0</td>\n",
       "      <td>Diesel</td>\n",
       "      <td>90</td>\n",
       "      <td>1.0</td>\n",
       "      <td>0</td>\n",
       "      <td>2000</td>\n",
       "      <td>5</td>\n",
       "      <td>1165</td>\n",
       "      <td>High</td>\n",
       "    </tr>\n",
       "    <tr>\n",
       "      <th>1</th>\n",
       "      <td>13750</td>\n",
       "      <td>23.0</td>\n",
       "      <td>72937.0</td>\n",
       "      <td>Diesel</td>\n",
       "      <td>90</td>\n",
       "      <td>1.0</td>\n",
       "      <td>0</td>\n",
       "      <td>2000</td>\n",
       "      <td>3</td>\n",
       "      <td>1165</td>\n",
       "      <td>High</td>\n",
       "    </tr>\n",
       "    <tr>\n",
       "      <th>2</th>\n",
       "      <td>13950</td>\n",
       "      <td>24.0</td>\n",
       "      <td>41711.0</td>\n",
       "      <td>Diesel</td>\n",
       "      <td>90</td>\n",
       "      <td>NaN</td>\n",
       "      <td>0</td>\n",
       "      <td>2000</td>\n",
       "      <td>3</td>\n",
       "      <td>1165</td>\n",
       "      <td>High</td>\n",
       "    </tr>\n",
       "    <tr>\n",
       "      <th>3</th>\n",
       "      <td>14950</td>\n",
       "      <td>26.0</td>\n",
       "      <td>48000.0</td>\n",
       "      <td>Diesel</td>\n",
       "      <td>90</td>\n",
       "      <td>0.0</td>\n",
       "      <td>0</td>\n",
       "      <td>2000</td>\n",
       "      <td>3</td>\n",
       "      <td>1165</td>\n",
       "      <td>High</td>\n",
       "    </tr>\n",
       "    <tr>\n",
       "      <th>4</th>\n",
       "      <td>13750</td>\n",
       "      <td>30.0</td>\n",
       "      <td>38500.0</td>\n",
       "      <td>Diesel</td>\n",
       "      <td>90</td>\n",
       "      <td>0.0</td>\n",
       "      <td>0</td>\n",
       "      <td>2000</td>\n",
       "      <td>3</td>\n",
       "      <td>1170</td>\n",
       "      <td>High</td>\n",
       "    </tr>\n",
       "  </tbody>\n",
       "</table>\n",
       "</div>"
      ],
      "text/plain": [
       "   Price   Age       KM FuelType  HP MetColor Automatic    CC  Doors  Weight  \\\n",
       "0  13500  23.0  46986.0   Diesel  90      1.0         0  2000      5    1165   \n",
       "1  13750  23.0  72937.0   Diesel  90      1.0         0  2000      3    1165   \n",
       "2  13950  24.0  41711.0   Diesel  90      NaN         0  2000      3    1165   \n",
       "3  14950  26.0  48000.0   Diesel  90      0.0         0  2000      3    1165   \n",
       "4  13750  30.0  38500.0   Diesel  90      0.0         0  2000      3    1170   \n",
       "\n",
       "  Price_Class  \n",
       "0        High  \n",
       "1        High  \n",
       "2        High  \n",
       "3        High  \n",
       "4        High  "
      ]
     },
     "execution_count": 43,
     "metadata": {},
     "output_type": "execute_result"
    }
   ],
   "source": [
    "data_set.head()"
   ]
  },
  {
   "cell_type": "code",
   "execution_count": 44,
   "id": "79203a22-802a-4e94-9eaf-8a27f39471dd",
   "metadata": {},
   "outputs": [
    {
     "data": {
      "text/plain": [
       "Price_Class\n",
       "Medium    751\n",
       "Low       369\n",
       "High      316\n",
       "Name: count, dtype: int64"
      ]
     },
     "execution_count": 44,
     "metadata": {},
     "output_type": "execute_result"
    }
   ],
   "source": [
    "data_set['Price_Class'].value_counts()"
   ]
  },
  {
   "cell_type": "markdown",
   "id": "f7178f5f-fc87-4bf1-b140-c632de2fe967",
   "metadata": {},
   "source": [
    "## Dealing with missing values"
   ]
  },
  {
   "cell_type": "code",
   "execution_count": 45,
   "id": "b6e31e5d-d651-40d1-88c8-f7bc51015120",
   "metadata": {},
   "outputs": [
    {
     "data": {
      "text/plain": [
       "Price            0\n",
       "Age            100\n",
       "KM              15\n",
       "FuelType       100\n",
       "HP               0\n",
       "MetColor       150\n",
       "Automatic        0\n",
       "CC               0\n",
       "Doors            0\n",
       "Weight           0\n",
       "Price_Class      0\n",
       "dtype: int64"
      ]
     },
     "execution_count": 45,
     "metadata": {},
     "output_type": "execute_result"
    }
   ],
   "source": [
    "data_set.isnull().sum()"
   ]
  },
  {
   "cell_type": "code",
   "execution_count": 46,
   "id": "f48905dc-b54e-4809-8b3d-8d5ff0657423",
   "metadata": {},
   "outputs": [
    {
     "data": {
      "text/plain": [
       "55.67215568862275"
      ]
     },
     "execution_count": 46,
     "metadata": {},
     "output_type": "execute_result"
    }
   ],
   "source": [
    "##Age Column\n",
    "\n",
    "mean_age=data_set['Age'].mean()\n",
    "mean_age"
   ]
  },
  {
   "cell_type": "code",
   "execution_count": 47,
   "id": "fdf6818e-9935-4e54-aa11-b3bbed59e952",
   "metadata": {},
   "outputs": [],
   "source": [
    "data_set['Age'].fillna(mean_age,inplace=True)"
   ]
  },
  {
   "cell_type": "code",
   "execution_count": 48,
   "id": "f7b2b6fe-a585-4dac-9a61-adae613964eb",
   "metadata": {},
   "outputs": [
    {
     "data": {
      "text/plain": [
       "63634.0"
      ]
     },
     "execution_count": 48,
     "metadata": {},
     "output_type": "execute_result"
    }
   ],
   "source": [
    "## KM column\n",
    "median_KM= data_set['KM'].median()\n",
    "median_KM"
   ]
  },
  {
   "cell_type": "code",
   "execution_count": 49,
   "id": "cc71e40a-9eec-40f6-8f53-ddc86e28358f",
   "metadata": {},
   "outputs": [],
   "source": [
    "data_set['KM'].fillna(median_KM,inplace=True)"
   ]
  },
  {
   "cell_type": "code",
   "execution_count": 50,
   "id": "d4ef0cae-3742-4f3d-90ce-524cc9b3549e",
   "metadata": {},
   "outputs": [
    {
     "data": {
      "text/plain": [
       "'Petrol'"
      ]
     },
     "execution_count": 50,
     "metadata": {},
     "output_type": "execute_result"
    }
   ],
   "source": [
    "## fuel type column\n",
    "counts=data_set['FuelType'].value_counts().index[0]\n",
    "counts"
   ]
  },
  {
   "cell_type": "code",
   "execution_count": 51,
   "id": "09426ed1-7ac0-4d0f-99f2-e282834dfa56",
   "metadata": {},
   "outputs": [],
   "source": [
    "data_set['FuelType'].fillna(counts,inplace=True)"
   ]
  },
  {
   "cell_type": "code",
   "execution_count": 52,
   "id": "c7a20ef8-3ef3-40ce-9efc-0d2663d393c7",
   "metadata": {},
   "outputs": [],
   "source": [
    "MetColor_mode=data_set['MetColor'].mode()[0]"
   ]
  },
  {
   "cell_type": "code",
   "execution_count": 53,
   "id": "2aa6b26a-305c-48ce-8478-fd350d10500c",
   "metadata": {},
   "outputs": [
    {
     "data": {
      "text/plain": [
       "1.0"
      ]
     },
     "execution_count": 53,
     "metadata": {},
     "output_type": "execute_result"
    }
   ],
   "source": [
    "MetColor_mode"
   ]
  },
  {
   "cell_type": "code",
   "execution_count": 54,
   "id": "a65293be-56c0-4b56-8f9e-379b64044c9f",
   "metadata": {},
   "outputs": [],
   "source": [
    "data_set['MetColor'].fillna(MetColor_mode,inplace=True)"
   ]
  },
  {
   "cell_type": "markdown",
   "id": "48f4a5bd-0eec-403a-9766-54e3b7fbbbd1",
   "metadata": {},
   "source": [
    "## Now dataset has been cleaned"
   ]
  },
  {
   "cell_type": "code",
   "execution_count": 55,
   "id": "d2e0d51b-b502-4a2d-9144-9ffa21d3a308",
   "metadata": {},
   "outputs": [
    {
     "data": {
      "text/plain": [
       "Price          0\n",
       "Age            0\n",
       "KM             0\n",
       "FuelType       0\n",
       "HP             0\n",
       "MetColor       0\n",
       "Automatic      0\n",
       "CC             0\n",
       "Doors          0\n",
       "Weight         0\n",
       "Price_Class    0\n",
       "dtype: int64"
      ]
     },
     "execution_count": 55,
     "metadata": {},
     "output_type": "execute_result"
    }
   ],
   "source": [
    "data_set.isnull().sum()"
   ]
  },
  {
   "cell_type": "code",
   "execution_count": 56,
   "id": "bdde0d66-e231-4649-b940-eb6ed98f4216",
   "metadata": {},
   "outputs": [
    {
     "data": {
      "text/html": [
       "<div>\n",
       "<style scoped>\n",
       "    .dataframe tbody tr th:only-of-type {\n",
       "        vertical-align: middle;\n",
       "    }\n",
       "\n",
       "    .dataframe tbody tr th {\n",
       "        vertical-align: top;\n",
       "    }\n",
       "\n",
       "    .dataframe thead th {\n",
       "        text-align: right;\n",
       "    }\n",
       "</style>\n",
       "<table border=\"1\" class=\"dataframe\">\n",
       "  <thead>\n",
       "    <tr style=\"text-align: right;\">\n",
       "      <th></th>\n",
       "      <th>Price</th>\n",
       "      <th>Age</th>\n",
       "      <th>KM</th>\n",
       "      <th>FuelType</th>\n",
       "      <th>HP</th>\n",
       "      <th>MetColor</th>\n",
       "      <th>Automatic</th>\n",
       "      <th>CC</th>\n",
       "      <th>Doors</th>\n",
       "      <th>Weight</th>\n",
       "      <th>Price_Class</th>\n",
       "    </tr>\n",
       "  </thead>\n",
       "  <tbody>\n",
       "    <tr>\n",
       "      <th>1426</th>\n",
       "      <td>9950</td>\n",
       "      <td>78.000000</td>\n",
       "      <td>30964.0</td>\n",
       "      <td>Petrol</td>\n",
       "      <td>110</td>\n",
       "      <td>1.0</td>\n",
       "      <td>1</td>\n",
       "      <td>1600</td>\n",
       "      <td>3</td>\n",
       "      <td>1080</td>\n",
       "      <td>Medium</td>\n",
       "    </tr>\n",
       "    <tr>\n",
       "      <th>1427</th>\n",
       "      <td>8950</td>\n",
       "      <td>55.672156</td>\n",
       "      <td>29000.0</td>\n",
       "      <td>Petrol</td>\n",
       "      <td>86</td>\n",
       "      <td>1.0</td>\n",
       "      <td>1</td>\n",
       "      <td>1300</td>\n",
       "      <td>3</td>\n",
       "      <td>1045</td>\n",
       "      <td>Medium</td>\n",
       "    </tr>\n",
       "    <tr>\n",
       "      <th>1428</th>\n",
       "      <td>8450</td>\n",
       "      <td>72.000000</td>\n",
       "      <td>63634.0</td>\n",
       "      <td>Petrol</td>\n",
       "      <td>86</td>\n",
       "      <td>1.0</td>\n",
       "      <td>0</td>\n",
       "      <td>1300</td>\n",
       "      <td>3</td>\n",
       "      <td>1015</td>\n",
       "      <td>Low</td>\n",
       "    </tr>\n",
       "    <tr>\n",
       "      <th>1429</th>\n",
       "      <td>8950</td>\n",
       "      <td>78.000000</td>\n",
       "      <td>24000.0</td>\n",
       "      <td>Petrol</td>\n",
       "      <td>86</td>\n",
       "      <td>1.0</td>\n",
       "      <td>1</td>\n",
       "      <td>1300</td>\n",
       "      <td>5</td>\n",
       "      <td>1065</td>\n",
       "      <td>Medium</td>\n",
       "    </tr>\n",
       "    <tr>\n",
       "      <th>1430</th>\n",
       "      <td>8450</td>\n",
       "      <td>80.000000</td>\n",
       "      <td>23000.0</td>\n",
       "      <td>Petrol</td>\n",
       "      <td>86</td>\n",
       "      <td>0.0</td>\n",
       "      <td>0</td>\n",
       "      <td>1300</td>\n",
       "      <td>3</td>\n",
       "      <td>1015</td>\n",
       "      <td>Low</td>\n",
       "    </tr>\n",
       "    <tr>\n",
       "      <th>1431</th>\n",
       "      <td>7500</td>\n",
       "      <td>55.672156</td>\n",
       "      <td>20544.0</td>\n",
       "      <td>Petrol</td>\n",
       "      <td>86</td>\n",
       "      <td>1.0</td>\n",
       "      <td>0</td>\n",
       "      <td>1300</td>\n",
       "      <td>3</td>\n",
       "      <td>1025</td>\n",
       "      <td>Low</td>\n",
       "    </tr>\n",
       "    <tr>\n",
       "      <th>1432</th>\n",
       "      <td>10845</td>\n",
       "      <td>72.000000</td>\n",
       "      <td>63634.0</td>\n",
       "      <td>Petrol</td>\n",
       "      <td>86</td>\n",
       "      <td>0.0</td>\n",
       "      <td>0</td>\n",
       "      <td>1300</td>\n",
       "      <td>3</td>\n",
       "      <td>1015</td>\n",
       "      <td>Medium</td>\n",
       "    </tr>\n",
       "    <tr>\n",
       "      <th>1433</th>\n",
       "      <td>8500</td>\n",
       "      <td>55.672156</td>\n",
       "      <td>17016.0</td>\n",
       "      <td>Petrol</td>\n",
       "      <td>86</td>\n",
       "      <td>0.0</td>\n",
       "      <td>0</td>\n",
       "      <td>1300</td>\n",
       "      <td>3</td>\n",
       "      <td>1015</td>\n",
       "      <td>Medium</td>\n",
       "    </tr>\n",
       "    <tr>\n",
       "      <th>1434</th>\n",
       "      <td>7250</td>\n",
       "      <td>70.000000</td>\n",
       "      <td>63634.0</td>\n",
       "      <td>Petrol</td>\n",
       "      <td>86</td>\n",
       "      <td>1.0</td>\n",
       "      <td>0</td>\n",
       "      <td>1300</td>\n",
       "      <td>3</td>\n",
       "      <td>1015</td>\n",
       "      <td>Low</td>\n",
       "    </tr>\n",
       "    <tr>\n",
       "      <th>1435</th>\n",
       "      <td>6950</td>\n",
       "      <td>76.000000</td>\n",
       "      <td>1.0</td>\n",
       "      <td>Petrol</td>\n",
       "      <td>110</td>\n",
       "      <td>0.0</td>\n",
       "      <td>0</td>\n",
       "      <td>1600</td>\n",
       "      <td>5</td>\n",
       "      <td>1114</td>\n",
       "      <td>Low</td>\n",
       "    </tr>\n",
       "  </tbody>\n",
       "</table>\n",
       "</div>"
      ],
      "text/plain": [
       "      Price        Age       KM FuelType   HP  MetColor Automatic    CC  \\\n",
       "1426   9950  78.000000  30964.0   Petrol  110       1.0         1  1600   \n",
       "1427   8950  55.672156  29000.0   Petrol   86       1.0         1  1300   \n",
       "1428   8450  72.000000  63634.0   Petrol   86       1.0         0  1300   \n",
       "1429   8950  78.000000  24000.0   Petrol   86       1.0         1  1300   \n",
       "1430   8450  80.000000  23000.0   Petrol   86       0.0         0  1300   \n",
       "1431   7500  55.672156  20544.0   Petrol   86       1.0         0  1300   \n",
       "1432  10845  72.000000  63634.0   Petrol   86       0.0         0  1300   \n",
       "1433   8500  55.672156  17016.0   Petrol   86       0.0         0  1300   \n",
       "1434   7250  70.000000  63634.0   Petrol   86       1.0         0  1300   \n",
       "1435   6950  76.000000      1.0   Petrol  110       0.0         0  1600   \n",
       "\n",
       "      Doors  Weight Price_Class  \n",
       "1426      3    1080      Medium  \n",
       "1427      3    1045      Medium  \n",
       "1428      3    1015         Low  \n",
       "1429      5    1065      Medium  \n",
       "1430      3    1015         Low  \n",
       "1431      3    1025         Low  \n",
       "1432      3    1015      Medium  \n",
       "1433      3    1015      Medium  \n",
       "1434      3    1015         Low  \n",
       "1435      5    1114         Low  "
      ]
     },
     "execution_count": 56,
     "metadata": {},
     "output_type": "execute_result"
    }
   ],
   "source": [
    "data_set.tail(10)"
   ]
  },
  {
   "cell_type": "code",
   "execution_count": 57,
   "id": "45e192da-1309-4b12-a431-6d9e1713fcdf",
   "metadata": {},
   "outputs": [],
   "source": [
    "data_set.to_csv(r'E:\\Pandas\\cleaned_toyota.csv',index=False)"
   ]
  },
  {
   "cell_type": "code",
   "execution_count": 58,
   "id": "40b1ef39-a711-4f86-8a76-6dcf3d3b5ec6",
   "metadata": {},
   "outputs": [],
   "source": [
    "import matplotlib.pyplot as plt"
   ]
  },
  {
   "cell_type": "code",
   "execution_count": 59,
   "id": "877c90dc-ac8a-45e2-82d1-45e923419cf3",
   "metadata": {
    "scrolled": true
   },
   "outputs": [
    {
     "data": {
      "image/png": "[encoded data removed]",
      "text/plain": [
       "<Figure size 640x480 with 1 Axes>"
      ]
     },
     "metadata": {},
     "output_type": "display_data"
    }
   ],
   "source": [
    "plt.scatter(data_set['Age'],data_set['Price'],c='red')\n",
    "plt.title('Price VS age of car')\n",
    "plt.xlabel('Age (Months)')\n",
    "plt.ylabel('Price (Euros)')\n",
    "plt.show()"
   ]
  },
  {
   "cell_type": "code",
   "execution_count": 64,
   "id": "137ef441-8c6a-4973-8d7e-02ec1a023ac0",
   "metadata": {},
   "outputs": [],
   "source": [
    "##Conclusion - Price decreases as age of car increases"
   ]
  },
  {
   "cell_type": "code",
   "execution_count": null,
   "id": "36186281-6911-4abf-aa05-8053dc48bccd",
   "metadata": {},
   "outputs": [],
   "source": []
  },
  {
   "cell_type": "code",
   "execution_count": null,
   "id": "e33726bb-5c5c-45a4-a1ac-2a4da668c107",
   "metadata": {},
   "outputs": [],
   "source": []
  },
  {
   "cell_type": "code",
   "execution_count": 63,
   "id": "2cdca308-c4f0-44ea-b6be-53d8ee7c8c93",
   "metadata": {},
   "outputs": [
    {
     "data": {
      "image/png": "[encoded data removed]",
      "text/plain": [
       "<Figure size 640x480 with 1 Axes>"
      ]
     },
     "metadata": {},
     "output_type": "display_data"
    }
   ],
   "source": [
    "plt.hist(data_set['KM'])\n",
    "plt.title('Histogram of KM')\n",
    "plt.xlabel('Kilometer')\n",
    "plt.ylabel('Frequency')\n",
    "plt.show()"
   ]
  },
  {
   "cell_type": "code",
   "execution_count": 65,
   "id": "17b670db-f68a-4716-87fb-4e68bea7b35b",
   "metadata": {},
   "outputs": [],
   "source": [
    "## Conclusion - Most of the cars have travelled  between 50000-100000 KM, and there are very few cars with more distance travelled"
   ]
  },
  {
   "cell_type": "code",
   "execution_count": null,
   "id": "7eb03291-1784-49c2-8930-553e8d42966a",
   "metadata": {},
   "outputs": [],
   "source": []
  },
  {
   "cell_type": "code",
   "execution_count": null,
   "id": "54f4475e-bf7b-424f-801e-8a5a96c231ea",
   "metadata": {},
   "outputs": [],
   "source": []
  },
  {
   "cell_type": "code",
   "execution_count": 66,
   "id": "207e3e31-b72c-4bde-9f82-dc92e0827335",
   "metadata": {},
   "outputs": [],
   "source": [
    "counts = [979,120,12]\n",
    "fuelType = ('Petrol', 'Diesel', 'CNG')\n",
    "index = np.arange(len(fuelType))"
   ]
  },
  {
   "cell_type": "code",
   "execution_count": 68,
   "id": "d88a924d-cb1f-4c34-a1d9-cea488c80906",
   "metadata": {},
   "outputs": [
    {
     "data": {
      "image/png": "[encoded data removed]",
      "text/plain": [
       "<Figure size 640x480 with 1 Axes>"
      ]
     },
     "metadata": {},
     "output_type": "display_data"
    }
   ],
   "source": [
    "plt.bar(index,counts,color=['red','blue','cyan'])\n",
    "plt.title('Bar plot of fuel types')\n",
    "plt.xlabel('Fuel Types')\n",
    "plt.ylabel('Frequency')\n",
    "plt.show()"
   ]
  },
  {
   "cell_type": "code",
   "execution_count": 71,
   "id": "1d48069f-7945-4d43-bfd8-ff96d3482f29",
   "metadata": {},
   "outputs": [],
   "source": [
    "## Conclusion : Most of the cars have petrol as fuel type"
   ]
  },
  {
   "cell_type": "code",
   "execution_count": null,
   "id": "c43bc1d8-f50c-4348-9cc7-f040b0396f7f",
   "metadata": {},
   "outputs": [],
   "source": []
  }
 ],
 "metadata": {
  "kernelspec": {
   "display_name": "Python 3 (ipykernel)",
   "language": "python",
   "name": "python3"
  },
  "language_info": {
   "codemirror_mode": {
    "name": "ipython",
    "version": 3
   },
   "file_extension": ".py",
   "mimetype": "text/x-python",
   "name": "python",
   "nbconvert_exporter": "python",
   "pygments_lexer": "ipython3",
   "version": "3.11.4"
  }
 },
 "nbformat": 4,
 "nbformat_minor": 5
}
